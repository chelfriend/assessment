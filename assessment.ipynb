{
 "cells": [
  {
   "cell_type": "code",
   "execution_count": 1,
   "id": "deee9903-ed2a-426f-b4be-3b6316be79e9",
   "metadata": {
    "tags": []
   },
   "outputs": [],
   "source": [
    "c1=2.5\n",
    "c2=3"
   ]
  },
  {
   "cell_type": "code",
   "execution_count": 2,
   "id": "942d3048-21c5-4312-81c2-f7f68f08b3b1",
   "metadata": {
    "tags": []
   },
   "outputs": [
    {
     "data": {
      "text/plain": [
       "5.5"
      ]
     },
     "execution_count": 2,
     "metadata": {},
     "output_type": "execute_result"
    }
   ],
   "source": [
    "#Addition\n",
    "c1+c2\n"
   ]
  },
  {
   "cell_type": "code",
   "execution_count": 3,
   "id": "db040a60-a597-47d0-9702-21851074a6d0",
   "metadata": {
    "tags": []
   },
   "outputs": [
    {
     "data": {
      "text/plain": [
       "-0.5"
      ]
     },
     "execution_count": 3,
     "metadata": {},
     "output_type": "execute_result"
    }
   ],
   "source": [
    "#subtraction\n",
    "c1-c2"
   ]
  },
  {
   "cell_type": "code",
   "execution_count": 4,
   "id": "9d2175e1-c0f6-4339-9109-3e88a0fbedb5",
   "metadata": {
    "tags": []
   },
   "outputs": [
    {
     "data": {
      "text/plain": [
       "7.5"
      ]
     },
     "execution_count": 4,
     "metadata": {},
     "output_type": "execute_result"
    }
   ],
   "source": [
    "#multiplication\n",
    "c1*c2\n"
   ]
  },
  {
   "cell_type": "code",
   "execution_count": 5,
   "id": "b1930d69-d32d-4141-b492-cabab1fd3ec9",
   "metadata": {
    "tags": []
   },
   "outputs": [
    {
     "data": {
      "text/plain": [
       "0.8333333333333334"
      ]
     },
     "execution_count": 5,
     "metadata": {},
     "output_type": "execute_result"
    }
   ],
   "source": [
    "#division\n",
    "c1/c2"
   ]
  },
  {
   "cell_type": "code",
   "execution_count": 7,
   "id": "2a245b61-4e98-4fe1-babe-71a6abaab63e",
   "metadata": {
    "tags": []
   },
   "outputs": [
    {
     "data": {
      "text/plain": [
       "0.0"
      ]
     },
     "execution_count": 7,
     "metadata": {},
     "output_type": "execute_result"
    }
   ],
   "source": [
    "#Floor Division\n",
    "c1//c2\n"
   ]
  },
  {
   "cell_type": "code",
   "execution_count": 8,
   "id": "a7be33b3-dc26-4943-8431-6b017133f6bd",
   "metadata": {
    "tags": []
   },
   "outputs": [
    {
     "data": {
      "text/plain": [
       "2.5"
      ]
     },
     "execution_count": 8,
     "metadata": {},
     "output_type": "execute_result"
    }
   ],
   "source": [
    "#modulus\n",
    "c1%c2"
   ]
  },
  {
   "cell_type": "code",
   "execution_count": 9,
   "id": "4132654c-58e1-4800-994d-a50d4ad999bf",
   "metadata": {
    "tags": []
   },
   "outputs": [
    {
     "data": {
      "text/plain": [
       "15.625"
      ]
     },
     "execution_count": 9,
     "metadata": {},
     "output_type": "execute_result"
    }
   ],
   "source": [
    "#Exponential\n",
    "c1**c2"
   ]
  },
  {
   "cell_type": "code",
   "execution_count": null,
   "id": "7b37a3c2-3102-4c06-88cc-253e20d73a4e",
   "metadata": {},
   "outputs": [],
   "source": []
  }
 ],
 "metadata": {
  "kernelspec": {
   "display_name": "Python 3 (ipykernel)",
   "language": "python",
   "name": "python3"
  },
  "language_info": {
   "codemirror_mode": {
    "name": "ipython",
    "version": 3
   },
   "file_extension": ".py",
   "mimetype": "text/x-python",
   "name": "python",
   "nbconvert_exporter": "python",
   "pygments_lexer": "ipython3",
   "version": "3.11.4"
  }
 },
 "nbformat": 4,
 "nbformat_minor": 5
}
